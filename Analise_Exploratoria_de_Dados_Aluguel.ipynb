{
 "cells": [
  {
   "cell_type": "markdown",
   "id": "f8d8a585",
   "metadata": {},
   "source": [
    "## Análise Exploratória de Dados "
   ]
  },
  {
   "cell_type": "markdown",
   "id": "ffbd90cb",
   "metadata": {},
   "source": [
    "Este projeto tem como objetivo compreender como é feita uma análise exploratória de dados. Este estudo apresenta um levamento de preços de aluguel de apartamentos e casas na cidade de Munique (Alemanha). \n",
    "\n",
    "Utilizou-se o material do Professor Fernando de Pol Mayer da UFPR como referência. O estudo do Professor Fernando foi realizado utilizando a linguagem R e para este projeto transcrevi a análise para linguagem Python e complementei com análises adicionais."
   ]
  },
  {
   "cell_type": "markdown",
   "id": "5cdab381",
   "metadata": {},
   "source": [
    "- Aluguel: valor do aluguel em euros\n",
    "- Metragem: tamanho em metros quadrados\n",
    "- Ano: ano de construção do local\n",
    "- Aquecimento: indicação se existe ou não aquecimento no local (true or false)\n",
    "- Loc: classificação do imóvel quanto à faixa de renda do bairro"
   ]
  },
  {
   "cell_type": "code",
   "execution_count": 58,
   "id": "843663d5",
   "metadata": {},
   "outputs": [],
   "source": [
    "import pandas as pd\n",
    "import numpy as nd\n",
    "import matplotlib\n",
    "import matplotlib.pyplot as plt\n",
    "import seaborn as sns\n",
    "%matplotlib inline"
   ]
  },
  {
   "cell_type": "code",
   "execution_count": 10,
   "id": "c97a4373",
   "metadata": {},
   "outputs": [],
   "source": [
    "df = pd.read_csv('dados_aluguel.csv', sep=',')"
   ]
  },
  {
   "cell_type": "code",
   "execution_count": 11,
   "id": "b97999d4",
   "metadata": {},
   "outputs": [
    {
     "data": {
      "text/html": [
       "<div>\n",
       "<style scoped>\n",
       "    .dataframe tbody tr th:only-of-type {\n",
       "        vertical-align: middle;\n",
       "    }\n",
       "\n",
       "    .dataframe tbody tr th {\n",
       "        vertical-align: top;\n",
       "    }\n",
       "\n",
       "    .dataframe thead th {\n",
       "        text-align: right;\n",
       "    }\n",
       "</style>\n",
       "<table border=\"1\" class=\"dataframe\">\n",
       "  <thead>\n",
       "    <tr style=\"text-align: right;\">\n",
       "      <th></th>\n",
       "      <th>aluguel</th>\n",
       "      <th>metragem</th>\n",
       "      <th>ano</th>\n",
       "      <th>aquecimento</th>\n",
       "      <th>loc</th>\n",
       "    </tr>\n",
       "  </thead>\n",
       "  <tbody>\n",
       "    <tr>\n",
       "      <th>0</th>\n",
       "      <td>693.3</td>\n",
       "      <td>50</td>\n",
       "      <td>1972</td>\n",
       "      <td>0</td>\n",
       "      <td>Média</td>\n",
       "    </tr>\n",
       "    <tr>\n",
       "      <th>1</th>\n",
       "      <td>422.0</td>\n",
       "      <td>54</td>\n",
       "      <td>1972</td>\n",
       "      <td>0</td>\n",
       "      <td>Média</td>\n",
       "    </tr>\n",
       "    <tr>\n",
       "      <th>2</th>\n",
       "      <td>736.6</td>\n",
       "      <td>70</td>\n",
       "      <td>1972</td>\n",
       "      <td>0</td>\n",
       "      <td>Média</td>\n",
       "    </tr>\n",
       "    <tr>\n",
       "      <th>3</th>\n",
       "      <td>732.2</td>\n",
       "      <td>50</td>\n",
       "      <td>1972</td>\n",
       "      <td>0</td>\n",
       "      <td>Média</td>\n",
       "    </tr>\n",
       "    <tr>\n",
       "      <th>4</th>\n",
       "      <td>1295.1</td>\n",
       "      <td>55</td>\n",
       "      <td>1893</td>\n",
       "      <td>0</td>\n",
       "      <td>Média</td>\n",
       "    </tr>\n",
       "  </tbody>\n",
       "</table>\n",
       "</div>"
      ],
      "text/plain": [
       "   aluguel  metragem   ano  aquecimento    loc\n",
       "0    693.3        50  1972            0  Média\n",
       "1    422.0        54  1972            0  Média\n",
       "2    736.6        70  1972            0  Média\n",
       "3    732.2        50  1972            0  Média\n",
       "4   1295.1        55  1893            0  Média"
      ]
     },
     "execution_count": 11,
     "metadata": {},
     "output_type": "execute_result"
    }
   ],
   "source": [
    "# Visualizando as cinco primeiras linhas\n",
    "df.head()"
   ]
  },
  {
   "cell_type": "code",
   "execution_count": 12,
   "id": "81c11a89",
   "metadata": {},
   "outputs": [
    {
     "data": {
      "text/html": [
       "<div>\n",
       "<style scoped>\n",
       "    .dataframe tbody tr th:only-of-type {\n",
       "        vertical-align: middle;\n",
       "    }\n",
       "\n",
       "    .dataframe tbody tr th {\n",
       "        vertical-align: top;\n",
       "    }\n",
       "\n",
       "    .dataframe thead th {\n",
       "        text-align: right;\n",
       "    }\n",
       "</style>\n",
       "<table border=\"1\" class=\"dataframe\">\n",
       "  <thead>\n",
       "    <tr style=\"text-align: right;\">\n",
       "      <th></th>\n",
       "      <th>aluguel</th>\n",
       "      <th>metragem</th>\n",
       "      <th>ano</th>\n",
       "      <th>aquecimento</th>\n",
       "      <th>loc</th>\n",
       "    </tr>\n",
       "  </thead>\n",
       "  <tbody>\n",
       "    <tr>\n",
       "      <th>0</th>\n",
       "      <td>693.3</td>\n",
       "      <td>50</td>\n",
       "      <td>1972</td>\n",
       "      <td>0</td>\n",
       "      <td>Média</td>\n",
       "    </tr>\n",
       "    <tr>\n",
       "      <th>1</th>\n",
       "      <td>422.0</td>\n",
       "      <td>54</td>\n",
       "      <td>1972</td>\n",
       "      <td>0</td>\n",
       "      <td>Média</td>\n",
       "    </tr>\n",
       "    <tr>\n",
       "      <th>2</th>\n",
       "      <td>736.6</td>\n",
       "      <td>70</td>\n",
       "      <td>1972</td>\n",
       "      <td>0</td>\n",
       "      <td>Média</td>\n",
       "    </tr>\n",
       "    <tr>\n",
       "      <th>3</th>\n",
       "      <td>732.2</td>\n",
       "      <td>50</td>\n",
       "      <td>1972</td>\n",
       "      <td>0</td>\n",
       "      <td>Média</td>\n",
       "    </tr>\n",
       "    <tr>\n",
       "      <th>4</th>\n",
       "      <td>1295.1</td>\n",
       "      <td>55</td>\n",
       "      <td>1893</td>\n",
       "      <td>0</td>\n",
       "      <td>Média</td>\n",
       "    </tr>\n",
       "    <tr>\n",
       "      <th>...</th>\n",
       "      <td>...</td>\n",
       "      <td>...</td>\n",
       "      <td>...</td>\n",
       "      <td>...</td>\n",
       "      <td>...</td>\n",
       "    </tr>\n",
       "    <tr>\n",
       "      <th>1964</th>\n",
       "      <td>1281.4</td>\n",
       "      <td>60</td>\n",
       "      <td>1973</td>\n",
       "      <td>0</td>\n",
       "      <td>Alta</td>\n",
       "    </tr>\n",
       "    <tr>\n",
       "      <th>1965</th>\n",
       "      <td>644.9</td>\n",
       "      <td>52</td>\n",
       "      <td>1974</td>\n",
       "      <td>0</td>\n",
       "      <td>Alta</td>\n",
       "    </tr>\n",
       "    <tr>\n",
       "      <th>1966</th>\n",
       "      <td>662.8</td>\n",
       "      <td>30</td>\n",
       "      <td>1964</td>\n",
       "      <td>0</td>\n",
       "      <td>Alta</td>\n",
       "    </tr>\n",
       "    <tr>\n",
       "      <th>1967</th>\n",
       "      <td>710.0</td>\n",
       "      <td>50</td>\n",
       "      <td>1969</td>\n",
       "      <td>0</td>\n",
       "      <td>Alta</td>\n",
       "    </tr>\n",
       "    <tr>\n",
       "      <th>1968</th>\n",
       "      <td>476.6</td>\n",
       "      <td>60</td>\n",
       "      <td>1939</td>\n",
       "      <td>0</td>\n",
       "      <td>Alta</td>\n",
       "    </tr>\n",
       "  </tbody>\n",
       "</table>\n",
       "<p>1969 rows × 5 columns</p>\n",
       "</div>"
      ],
      "text/plain": [
       "      aluguel  metragem   ano  aquecimento    loc\n",
       "0       693.3        50  1972            0  Média\n",
       "1       422.0        54  1972            0  Média\n",
       "2       736.6        70  1972            0  Média\n",
       "3       732.2        50  1972            0  Média\n",
       "4      1295.1        55  1893            0  Média\n",
       "...       ...       ...   ...          ...    ...\n",
       "1964   1281.4        60  1973            0   Alta\n",
       "1965    644.9        52  1974            0   Alta\n",
       "1966    662.8        30  1964            0   Alta\n",
       "1967    710.0        50  1969            0   Alta\n",
       "1968    476.6        60  1939            0   Alta\n",
       "\n",
       "[1969 rows x 5 columns]"
      ]
     },
     "execution_count": 12,
     "metadata": {},
     "output_type": "execute_result"
    }
   ],
   "source": [
    "# Visualizando o dataset completo\n",
    "df"
   ]
  },
  {
   "cell_type": "code",
   "execution_count": 13,
   "id": "6a1b9a1a",
   "metadata": {},
   "outputs": [
    {
     "data": {
      "text/plain": [
       "(1969, 5)"
      ]
     },
     "execution_count": 13,
     "metadata": {},
     "output_type": "execute_result"
    }
   ],
   "source": [
    "# Tamanho do dataset \n",
    "df.shape"
   ]
  },
  {
   "cell_type": "markdown",
   "id": "6b9f427a",
   "metadata": {},
   "source": [
    "### Classificando as variáveis:\n",
    "\n",
    "- Aluguel: quantitativa contínua\n",
    "- Metragem: quantitativa discreta\n",
    "- Ano: quantitativa discreta\n",
    "- Aquecimento: quantitativa discreta\n",
    "- Loc: qualitativa ordinal"
   ]
  },
  {
   "cell_type": "code",
   "execution_count": 14,
   "id": "c9bc1127",
   "metadata": {},
   "outputs": [
    {
     "name": "stdout",
     "output_type": "stream",
     "text": [
      "<class 'pandas.core.frame.DataFrame'>\n",
      "RangeIndex: 1969 entries, 0 to 1968\n",
      "Data columns (total 5 columns):\n",
      " #   Column       Non-Null Count  Dtype  \n",
      "---  ------       --------------  -----  \n",
      " 0   aluguel      1969 non-null   float64\n",
      " 1   metragem     1969 non-null   int64  \n",
      " 2   ano          1969 non-null   int64  \n",
      " 3   aquecimento  1969 non-null   int64  \n",
      " 4   loc          1969 non-null   object \n",
      "dtypes: float64(1), int64(3), object(1)\n",
      "memory usage: 77.0+ KB\n"
     ]
    }
   ],
   "source": [
    "# Obtendo informações sobre o tipo das variáveis\n",
    "\n",
    "df.info()"
   ]
  },
  {
   "cell_type": "code",
   "execution_count": 16,
   "id": "2ad4e1cc",
   "metadata": {},
   "outputs": [
    {
     "data": {
      "text/html": [
       "<div>\n",
       "<style scoped>\n",
       "    .dataframe tbody tr th:only-of-type {\n",
       "        vertical-align: middle;\n",
       "    }\n",
       "\n",
       "    .dataframe tbody tr th {\n",
       "        vertical-align: top;\n",
       "    }\n",
       "\n",
       "    .dataframe thead th {\n",
       "        text-align: right;\n",
       "    }\n",
       "</style>\n",
       "<table border=\"1\" class=\"dataframe\">\n",
       "  <thead>\n",
       "    <tr style=\"text-align: right;\">\n",
       "      <th></th>\n",
       "      <th>count</th>\n",
       "      <th>mean</th>\n",
       "      <th>std</th>\n",
       "      <th>min</th>\n",
       "      <th>25%</th>\n",
       "      <th>50%</th>\n",
       "      <th>75%</th>\n",
       "      <th>max</th>\n",
       "    </tr>\n",
       "  </thead>\n",
       "  <tbody>\n",
       "    <tr>\n",
       "      <th>aluguel</th>\n",
       "      <td>1969.0</td>\n",
       "      <td>811.880498</td>\n",
       "      <td>379.002520</td>\n",
       "      <td>102.0</td>\n",
       "      <td>544.2</td>\n",
       "      <td>737.8</td>\n",
       "      <td>1022.0</td>\n",
       "      <td>3000.0</td>\n",
       "    </tr>\n",
       "    <tr>\n",
       "      <th>metragem</th>\n",
       "      <td>1969.0</td>\n",
       "      <td>67.732351</td>\n",
       "      <td>20.855557</td>\n",
       "      <td>30.0</td>\n",
       "      <td>52.0</td>\n",
       "      <td>67.0</td>\n",
       "      <td>82.0</td>\n",
       "      <td>120.0</td>\n",
       "    </tr>\n",
       "    <tr>\n",
       "      <th>ano</th>\n",
       "      <td>1969.0</td>\n",
       "      <td>1948.475876</td>\n",
       "      <td>29.017298</td>\n",
       "      <td>1890.0</td>\n",
       "      <td>1934.0</td>\n",
       "      <td>1957.0</td>\n",
       "      <td>1972.0</td>\n",
       "      <td>1988.0</td>\n",
       "    </tr>\n",
       "    <tr>\n",
       "      <th>aquecimento</th>\n",
       "      <td>1969.0</td>\n",
       "      <td>0.197562</td>\n",
       "      <td>0.398261</td>\n",
       "      <td>0.0</td>\n",
       "      <td>0.0</td>\n",
       "      <td>0.0</td>\n",
       "      <td>0.0</td>\n",
       "      <td>1.0</td>\n",
       "    </tr>\n",
       "  </tbody>\n",
       "</table>\n",
       "</div>"
      ],
      "text/plain": [
       "              count         mean         std     min     25%     50%     75%  \\\n",
       "aluguel      1969.0   811.880498  379.002520   102.0   544.2   737.8  1022.0   \n",
       "metragem     1969.0    67.732351   20.855557    30.0    52.0    67.0    82.0   \n",
       "ano          1969.0  1948.475876   29.017298  1890.0  1934.0  1957.0  1972.0   \n",
       "aquecimento  1969.0     0.197562    0.398261     0.0     0.0     0.0     0.0   \n",
       "\n",
       "                max  \n",
       "aluguel      3000.0  \n",
       "metragem      120.0  \n",
       "ano          1988.0  \n",
       "aquecimento     1.0  "
      ]
     },
     "execution_count": 16,
     "metadata": {},
     "output_type": "execute_result"
    }
   ],
   "source": [
    "# Obtendo algumas medidas estatísticas das variáveis\n",
    "\n",
    "df.describe().transpose()"
   ]
  },
  {
   "cell_type": "markdown",
   "id": "6117516c",
   "metadata": {},
   "source": [
    "Pela tabela pode-se observar que a média do valor do aluguel é de 811 euros, a média da metragem das construções é de 67 m² e a média do ano de construção das residências é de 1948. A construção mais antiga do conjunto de dados é de 1890 e a construção mais nova é de 1988."
   ]
  },
  {
   "cell_type": "code",
   "execution_count": 17,
   "id": "a15fb20d",
   "metadata": {},
   "outputs": [
    {
     "data": {
      "text/plain": [
       "aluguel        0\n",
       "metragem       0\n",
       "ano            0\n",
       "aquecimento    0\n",
       "loc            0\n",
       "dtype: int64"
      ]
     },
     "execution_count": 17,
     "metadata": {},
     "output_type": "execute_result"
    }
   ],
   "source": [
    "# Verificando valores nulos no dataset\n",
    "\n",
    "df.isnull().sum()"
   ]
  },
  {
   "cell_type": "markdown",
   "id": "6b7aeb07",
   "metadata": {},
   "source": [
    "## Análise das Variáveis "
   ]
  },
  {
   "cell_type": "markdown",
   "id": "985fe637",
   "metadata": {},
   "source": [
    "### Variável: Ano\n",
    "\n",
    "* Ano de construção do local"
   ]
  },
  {
   "cell_type": "code",
   "execution_count": 51,
   "id": "51593787",
   "metadata": {},
   "outputs": [
    {
     "data": {
      "text/plain": [
       "73"
      ]
     },
     "execution_count": 51,
     "metadata": {},
     "output_type": "execute_result"
    }
   ],
   "source": [
    "# Mostrando os valores distintos da variável ano\n",
    "\n",
    "df['ano'].unique().size"
   ]
  },
  {
   "cell_type": "code",
   "execution_count": 94,
   "id": "1d5f994b",
   "metadata": {},
   "outputs": [
    {
     "data": {
      "text/plain": [
       "ano\n",
       "1890      1\n",
       "1893    305\n",
       "1894      2\n",
       "1895      2\n",
       "1896      3\n",
       "       ... \n",
       "1984      7\n",
       "1985     43\n",
       "1986      1\n",
       "1987      3\n",
       "1988     24\n",
       "Name: ano, Length: 73, dtype: int64"
      ]
     },
     "execution_count": 94,
     "metadata": {},
     "output_type": "execute_result"
    }
   ],
   "source": [
    "# Frequência absoluta\n",
    "\n",
    "ano_ab = df.groupby('ano')['ano'].count()\n",
    "ano_ab"
   ]
  },
  {
   "cell_type": "code",
   "execution_count": 91,
   "id": "461d80ad",
   "metadata": {},
   "outputs": [
    {
     "data": {
      "text/plain": [
       "ano\n",
       "1890    0.000508\n",
       "1911    0.000508\n",
       "1920    0.000508\n",
       "1924    0.000508\n",
       "1908    0.000508\n",
       "          ...   \n",
       "1981    0.060945\n",
       "1934    0.114779\n",
       "1893    0.154901\n",
       "1972    0.184865\n",
       "1957    0.279837\n",
       "Name: ano, Length: 73, dtype: float64"
      ]
     },
     "execution_count": 91,
     "metadata": {},
     "output_type": "execute_result"
    }
   ],
   "source": [
    "# Frequência relativa\n",
    "\n",
    "ano_rel = ((df.groupby('ano')['ano'].count())/df.shape[0]).sort_values()\n",
    "ano_rel"
   ]
  },
  {
   "cell_type": "code",
   "execution_count": 108,
   "id": "77b443b3",
   "metadata": {
    "scrolled": false
   },
   "outputs": [
    {
     "data": {
      "text/plain": [
       "<AxesSubplot:title={'center':'Ano das construções'}, xlabel='ano'>"
      ]
     },
     "execution_count": 108,
     "metadata": {},
     "output_type": "execute_result"
    },
    {
     "data": {
      "image/png": "[encoded data removed]",
      "text/plain": [
       "<Figure size 1440x720 with 1 Axes>"
      ]
     },
     "metadata": {
      "needs_background": "light"
     },
     "output_type": "display_data"
    }
   ],
   "source": [
    "# Plotando o gráfico de barras \n",
    "\n",
    "plt.figure(figsize=(20, 10))\n",
    "(ano_ab).plot(kind='bar', color='lightblue', edgecolor='black', title='Ano das construções')"
   ]
  },
  {
   "cell_type": "code",
   "execution_count": 90,
   "id": "89d47543",
   "metadata": {},
   "outputs": [
    {
     "data": {
      "text/plain": [
       "551"
      ]
     },
     "execution_count": 90,
     "metadata": {},
     "output_type": "execute_result"
    }
   ],
   "source": [
    "#Contabilizando o nº de observações na amostra do ano 1957\n",
    "\n",
    "(df.ano == 1957).sum()"
   ]
  },
  {
   "cell_type": "markdown",
   "id": "4af112d2",
   "metadata": {},
   "source": [
    "As construções de 1957 foram as que tiveram maior ocorrência com 551 observações."
   ]
  },
  {
   "cell_type": "markdown",
   "id": "dde4065b",
   "metadata": {},
   "source": [
    "### Variável: Aquecimento\n",
    "\n",
    "* Indica se a residência possui aquecimento ou não\n",
    "\n",
    "     0 - Sim\n",
    "     1 - Não"
   ]
  },
  {
   "cell_type": "code",
   "execution_count": 97,
   "id": "0be2390e",
   "metadata": {},
   "outputs": [
    {
     "data": {
      "text/plain": [
       "aquecimento\n",
       "0    1580\n",
       "1     389\n",
       "Name: aquecimento, dtype: int64"
      ]
     },
     "execution_count": 97,
     "metadata": {},
     "output_type": "execute_result"
    }
   ],
   "source": [
    "# Frequência absoluta\n",
    "\n",
    "aq_ab = df.groupby('aquecimento')['aquecimento'].count()\n",
    "aq_ab"
   ]
  },
  {
   "cell_type": "code",
   "execution_count": 100,
   "id": "2f88e03b",
   "metadata": {},
   "outputs": [
    {
     "data": {
      "text/plain": [
       "aquecimento\n",
       "0    80.24\n",
       "1    19.76\n",
       "Name: aquecimento, dtype: float64"
      ]
     },
     "execution_count": 100,
     "metadata": {},
     "output_type": "execute_result"
    }
   ],
   "source": [
    "# Frequência relativa\n",
    "\n",
    "aq_rel = ((df.groupby('aquecimento')['aquecimento'].count())/df.shape[0])\n",
    "round((aq_rel*100),2)"
   ]
  },
  {
   "cell_type": "code",
   "execution_count": 102,
   "id": "33e825f0",
   "metadata": {},
   "outputs": [
    {
     "data": {
      "text/plain": [
       "<AxesSubplot:title={'center':'Aquecimento nas construções'}, xlabel='aquecimento'>"
      ]
     },
     "execution_count": 102,
     "metadata": {},
     "output_type": "execute_result"
    },
    {
     "data": {
      "image/png": "[encoded data removed]",
      "text/plain": [
       "<Figure size 432x288 with 1 Axes>"
      ]
     },
     "metadata": {
      "needs_background": "light"
     },
     "output_type": "display_data"
    }
   ],
   "source": [
    "# Plotando o gráfico de barras \n",
    "\n",
    "(aq_rel).plot(kind='bar', color='lightblue', edgecolor='black', title='Aquecimento nas construções')"
   ]
  },
  {
   "cell_type": "markdown",
   "id": "93e9ad59",
   "metadata": {},
   "source": [
    "O gráfico indica que 80% das construções possuem aquecimento no local."
   ]
  },
  {
   "cell_type": "markdown",
   "id": "be77744e",
   "metadata": {},
   "source": [
    "### Variável: Loc\n",
    "\n",
    "* Classificação do imóvel quanto à faixa de renda do bairro"
   ]
  },
  {
   "cell_type": "code",
   "execution_count": 112,
   "id": "10763be5",
   "metadata": {},
   "outputs": [
    {
     "data": {
      "text/plain": [
       "loc\n",
       "Alta      550\n",
       "Baixa     172\n",
       "Média    1247\n",
       "Name: loc, dtype: int64"
      ]
     },
     "execution_count": 112,
     "metadata": {},
     "output_type": "execute_result"
    }
   ],
   "source": [
    "# Frequência absoluta\n",
    "\n",
    "loc_ab = df.groupby('loc')['loc'].count()\n",
    "loc_ab"
   ]
  },
  {
   "cell_type": "code",
   "execution_count": 185,
   "id": "8ccc7966",
   "metadata": {},
   "outputs": [
    {
     "data": {
      "text/plain": [
       "loc\n",
       "Alta     27.93\n",
       "Baixa     8.74\n",
       "Média    63.33\n",
       "Name: loc, dtype: float64"
      ]
     },
     "execution_count": 185,
     "metadata": {},
     "output_type": "execute_result"
    }
   ],
   "source": [
    "# Frequência relativa\n",
    "\n",
    "loc_rel = ((df.groupby('loc')['loc'].count())/df.shape[0])\n",
    "round((loc_rel*100),2)"
   ]
  },
  {
   "cell_type": "code",
   "execution_count": 139,
   "id": "6a799afc",
   "metadata": {},
   "outputs": [
    {
     "data": {
      "text/plain": [
       "<AxesSubplot:title={'center':'Classificação do imóvel quanto à faixa de renda do local'}, xlabel='loc'>"
      ]
     },
     "execution_count": 139,
     "metadata": {},
     "output_type": "execute_result"
    },
    {
     "data": {
      "image/png": "[encoded data removed]",
      "text/plain": [
       "<Figure size 432x288 with 1 Axes>"
      ]
     },
     "metadata": {
      "needs_background": "light"
     },
     "output_type": "display_data"
    }
   ],
   "source": [
    "# Plotando o gráfico de barras \n",
    "\n",
    "(loc_rel).loc[['Baixa','Média','Alta']].plot(kind='bar', color='lightblue', edgecolor='black', title='Classificação do imóvel quanto à faixa de renda do local')"
   ]
  },
  {
   "cell_type": "markdown",
   "id": "1a4196bd",
   "metadata": {},
   "source": [
    "Observa-se que 63% das residências estão localizadas em bairros classificados com renda média, seguido de 28% em bairros classificados com renda alta e 9% em locais de renda baixa."
   ]
  },
  {
   "cell_type": "markdown",
   "id": "8ff8a845",
   "metadata": {},
   "source": [
    "### Cruzamento das variáveis Loc x Aquecimento"
   ]
  },
  {
   "cell_type": "code",
   "execution_count": 237,
   "id": "8ea2147a",
   "metadata": {},
   "outputs": [
    {
     "data": {
      "text/html": [
       "<div>\n",
       "<style scoped>\n",
       "    .dataframe tbody tr th:only-of-type {\n",
       "        vertical-align: middle;\n",
       "    }\n",
       "\n",
       "    .dataframe tbody tr th {\n",
       "        vertical-align: top;\n",
       "    }\n",
       "\n",
       "    .dataframe thead th {\n",
       "        text-align: right;\n",
       "    }\n",
       "</style>\n",
       "<table border=\"1\" class=\"dataframe\">\n",
       "  <thead>\n",
       "    <tr style=\"text-align: right;\">\n",
       "      <th>aquecimento</th>\n",
       "      <th>0</th>\n",
       "      <th>1</th>\n",
       "    </tr>\n",
       "    <tr>\n",
       "      <th>loc</th>\n",
       "      <th></th>\n",
       "      <th></th>\n",
       "    </tr>\n",
       "  </thead>\n",
       "  <tbody>\n",
       "    <tr>\n",
       "      <th>Alta</th>\n",
       "      <td>483</td>\n",
       "      <td>67</td>\n",
       "    </tr>\n",
       "    <tr>\n",
       "      <th>Baixa</th>\n",
       "      <td>122</td>\n",
       "      <td>50</td>\n",
       "    </tr>\n",
       "    <tr>\n",
       "      <th>Média</th>\n",
       "      <td>975</td>\n",
       "      <td>272</td>\n",
       "    </tr>\n",
       "  </tbody>\n",
       "</table>\n",
       "</div>"
      ],
      "text/plain": [
       "aquecimento    0    1\n",
       "loc                  \n",
       "Alta         483   67\n",
       "Baixa        122   50\n",
       "Média        975  272"
      ]
     },
     "execution_count": 237,
     "metadata": {},
     "output_type": "execute_result"
    }
   ],
   "source": [
    "# Agrupando a variável loc em relação a variável aquecimento\n",
    "#Frequência absoluta\n",
    "\n",
    "loc_aq_ab=df.groupby(['loc','aquecimento'])['aquecimento'].count().unstack()\n",
    "loc_aq_ab"
   ]
  },
  {
   "cell_type": "code",
   "execution_count": 250,
   "id": "4add5c7d",
   "metadata": {},
   "outputs": [
    {
     "data": {
      "text/html": [
       "<div>\n",
       "<style scoped>\n",
       "    .dataframe tbody tr th:only-of-type {\n",
       "        vertical-align: middle;\n",
       "    }\n",
       "\n",
       "    .dataframe tbody tr th {\n",
       "        vertical-align: top;\n",
       "    }\n",
       "\n",
       "    .dataframe thead th {\n",
       "        text-align: right;\n",
       "    }\n",
       "</style>\n",
       "<table border=\"1\" class=\"dataframe\">\n",
       "  <thead>\n",
       "    <tr style=\"text-align: right;\">\n",
       "      <th>aquecimento</th>\n",
       "      <th>0</th>\n",
       "      <th>1</th>\n",
       "    </tr>\n",
       "    <tr>\n",
       "      <th>loc</th>\n",
       "      <th></th>\n",
       "      <th></th>\n",
       "    </tr>\n",
       "  </thead>\n",
       "  <tbody>\n",
       "    <tr>\n",
       "      <th>Alta</th>\n",
       "      <td>24.53</td>\n",
       "      <td>3.40</td>\n",
       "    </tr>\n",
       "    <tr>\n",
       "      <th>Baixa</th>\n",
       "      <td>6.20</td>\n",
       "      <td>2.54</td>\n",
       "    </tr>\n",
       "    <tr>\n",
       "      <th>Média</th>\n",
       "      <td>49.52</td>\n",
       "      <td>13.81</td>\n",
       "    </tr>\n",
       "  </tbody>\n",
       "</table>\n",
       "</div>"
      ],
      "text/plain": [
       "aquecimento      0      1\n",
       "loc                      \n",
       "Alta         24.53   3.40\n",
       "Baixa         6.20   2.54\n",
       "Média        49.52  13.81"
      ]
     },
     "execution_count": 250,
     "metadata": {},
     "output_type": "execute_result"
    }
   ],
   "source": [
    "# Frequência relativa\n",
    "\n",
    "loc_aq_rel = ((df.groupby(['loc','aquecimento'])['aquecimento'].count().unstack())/df.shape[0])\n",
    "round((loc_aq_rel*100),2)"
   ]
  },
  {
   "cell_type": "code",
   "execution_count": 242,
   "id": "9b7f73d7",
   "metadata": {},
   "outputs": [
    {
     "data": {
      "text/plain": [
       "<AxesSubplot:title={'center':'Classificação do imóvel quanto à renda x Aquecimento'}, xlabel='loc'>"
      ]
     },
     "execution_count": 242,
     "metadata": {},
     "output_type": "execute_result"
    },
    {
     "data": {
      "image/png": "[encoded data removed]",
      "text/plain": [
       "<Figure size 432x288 with 1 Axes>"
      ]
     },
     "metadata": {
      "needs_background": "light"
     },
     "output_type": "display_data"
    }
   ],
   "source": [
    "# Plotando o gráfico de barras \n",
    "\n",
    "colors=['lightblue','plum']\n",
    "(loc_aq_ab).loc[['Baixa','Média','Alta']].plot(kind='bar', color=colors, edgecolor='black', title='Classificação do imóvel quanto à renda x Aquecimento')"
   ]
  },
  {
   "cell_type": "markdown",
   "id": "713502ef",
   "metadata": {},
   "source": [
    "Observa-se que 975 residências (49.5%) estão localizadas na região de renda média e possuem aquecimento nas casas. Além disso, 50 residências (2.5%) estão localizadas em bairros de renda baixa e não possuem aquecimento nas casas."
   ]
  },
  {
   "cell_type": "markdown",
   "id": "21eea5a7",
   "metadata": {},
   "source": [
    "### Variável: Aluguel \n",
    "\n",
    "* Valor do aluguel das residências"
   ]
  },
  {
   "cell_type": "code",
   "execution_count": 121,
   "id": "397c8c31",
   "metadata": {},
   "outputs": [
    {
     "data": {
      "text/plain": [
       "count    1969.000000\n",
       "mean      811.880498\n",
       "std       379.002520\n",
       "min       102.000000\n",
       "25%       544.200000\n",
       "50%       737.800000\n",
       "75%      1022.000000\n",
       "max      3000.000000\n",
       "Name: aluguel, dtype: float64"
      ]
     },
     "execution_count": 121,
     "metadata": {},
     "output_type": "execute_result"
    }
   ],
   "source": [
    "# Algumas medidas descritivas da variável Aluguel \n",
    "df['aluguel'].describe()"
   ]
  },
  {
   "cell_type": "code",
   "execution_count": 122,
   "id": "0abf466d",
   "metadata": {},
   "outputs": [
    {
     "data": {
      "text/plain": [
       "143642.91051377673"
      ]
     },
     "execution_count": 122,
     "metadata": {},
     "output_type": "execute_result"
    }
   ],
   "source": [
    "#Variância\n",
    "df['aluguel'].var()"
   ]
  },
  {
   "cell_type": "code",
   "execution_count": 123,
   "id": "354ba0b7",
   "metadata": {},
   "outputs": [
    {
     "data": {
      "text/plain": [
       "0.467"
      ]
     },
     "execution_count": 123,
     "metadata": {},
     "output_type": "execute_result"
    }
   ],
   "source": [
    "# Coeficiente de variação\n",
    "round((df['aluguel'].std())/(df['aluguel'].mean()),3)"
   ]
  },
  {
   "cell_type": "markdown",
   "id": "e475a6c0",
   "metadata": {},
   "source": [
    "A média dos aluguéis é de 811.8 euros. A mediana é de 737.8. O maior aluguel é de 3000 euros e o menor é de 102 euros.  "
   ]
  },
  {
   "cell_type": "code",
   "execution_count": 179,
   "id": "bdec4bb8",
   "metadata": {},
   "outputs": [
    {
     "data": {
      "text/plain": [
       "0         (585.0, 826.5]\n",
       "1         (343.5, 585.0]\n",
       "2         (585.0, 826.5]\n",
       "3         (585.0, 826.5]\n",
       "4       (1068.0, 1309.5]\n",
       "              ...       \n",
       "1964    (1068.0, 1309.5]\n",
       "1965      (585.0, 826.5]\n",
       "1966      (585.0, 826.5]\n",
       "1967      (585.0, 826.5]\n",
       "1968      (343.5, 585.0]\n",
       "Name: aluguel_grupo, Length: 1969, dtype: category\n",
       "Categories (12, interval[float64]): [(99.102, 343.5] < (343.5, 585.0] < (585.0, 826.5] < (826.5, 1068.0] ... (2034.0, 2275.5] < (2275.5, 2517.0] < (2517.0, 2758.5] < (2758.5, 3000.0]]"
      ]
     },
     "execution_count": 179,
     "metadata": {},
     "output_type": "execute_result"
    }
   ],
   "source": [
    "#Gerando um intervalo de classes da variável aluguel com 12 divisões\n",
    "\n",
    "df['aluguel_grupo'] = pd.cut(df['aluguel'], bins=12)\n",
    "df['aluguel_grupo']"
   ]
  },
  {
   "cell_type": "code",
   "execution_count": 182,
   "id": "6ed6f59c",
   "metadata": {},
   "outputs": [
    {
     "data": {
      "text/html": [
       "<div>\n",
       "<style scoped>\n",
       "    .dataframe tbody tr th:only-of-type {\n",
       "        vertical-align: middle;\n",
       "    }\n",
       "\n",
       "    .dataframe tbody tr th {\n",
       "        vertical-align: top;\n",
       "    }\n",
       "\n",
       "    .dataframe thead th {\n",
       "        text-align: right;\n",
       "    }\n",
       "</style>\n",
       "<table border=\"1\" class=\"dataframe\">\n",
       "  <thead>\n",
       "    <tr style=\"text-align: right;\">\n",
       "      <th></th>\n",
       "      <th>aluguel</th>\n",
       "      <th>metragem</th>\n",
       "      <th>ano</th>\n",
       "      <th>aquecimento</th>\n",
       "      <th>loc</th>\n",
       "      <th>aluguel_grupo</th>\n",
       "    </tr>\n",
       "  </thead>\n",
       "  <tbody>\n",
       "    <tr>\n",
       "      <th>1072</th>\n",
       "      <td>295.5</td>\n",
       "      <td>70</td>\n",
       "      <td>1957</td>\n",
       "      <td>0</td>\n",
       "      <td>Alta</td>\n",
       "      <td>(99.102, 343.5]</td>\n",
       "    </tr>\n",
       "    <tr>\n",
       "      <th>1561</th>\n",
       "      <td>202.7</td>\n",
       "      <td>65</td>\n",
       "      <td>1957</td>\n",
       "      <td>0</td>\n",
       "      <td>Baixa</td>\n",
       "      <td>(99.102, 343.5]</td>\n",
       "    </tr>\n",
       "    <tr>\n",
       "      <th>1562</th>\n",
       "      <td>240.0</td>\n",
       "      <td>68</td>\n",
       "      <td>1957</td>\n",
       "      <td>0</td>\n",
       "      <td>Baixa</td>\n",
       "      <td>(99.102, 343.5]</td>\n",
       "    </tr>\n",
       "    <tr>\n",
       "      <th>1563</th>\n",
       "      <td>240.0</td>\n",
       "      <td>65</td>\n",
       "      <td>1957</td>\n",
       "      <td>0</td>\n",
       "      <td>Baixa</td>\n",
       "      <td>(99.102, 343.5]</td>\n",
       "    </tr>\n",
       "    <tr>\n",
       "      <th>1564</th>\n",
       "      <td>265.0</td>\n",
       "      <td>65</td>\n",
       "      <td>1957</td>\n",
       "      <td>0</td>\n",
       "      <td>Baixa</td>\n",
       "      <td>(99.102, 343.5]</td>\n",
       "    </tr>\n",
       "    <tr>\n",
       "      <th>...</th>\n",
       "      <td>...</td>\n",
       "      <td>...</td>\n",
       "      <td>...</td>\n",
       "      <td>...</td>\n",
       "      <td>...</td>\n",
       "      <td>...</td>\n",
       "    </tr>\n",
       "    <tr>\n",
       "      <th>1136</th>\n",
       "      <td>2299.0</td>\n",
       "      <td>110</td>\n",
       "      <td>1959</td>\n",
       "      <td>0</td>\n",
       "      <td>Média</td>\n",
       "      <td>(2275.5, 2517.0]</td>\n",
       "    </tr>\n",
       "    <tr>\n",
       "      <th>795</th>\n",
       "      <td>2537.9</td>\n",
       "      <td>95</td>\n",
       "      <td>1957</td>\n",
       "      <td>0</td>\n",
       "      <td>Média</td>\n",
       "      <td>(2517.0, 2758.5]</td>\n",
       "    </tr>\n",
       "    <tr>\n",
       "      <th>1283</th>\n",
       "      <td>3000.0</td>\n",
       "      <td>120</td>\n",
       "      <td>1893</td>\n",
       "      <td>0</td>\n",
       "      <td>Média</td>\n",
       "      <td>(2758.5, 3000.0]</td>\n",
       "    </tr>\n",
       "    <tr>\n",
       "      <th>1465</th>\n",
       "      <td>2764.5</td>\n",
       "      <td>120</td>\n",
       "      <td>1934</td>\n",
       "      <td>0</td>\n",
       "      <td>Alta</td>\n",
       "      <td>(2758.5, 3000.0]</td>\n",
       "    </tr>\n",
       "    <tr>\n",
       "      <th>25</th>\n",
       "      <td>2869.9</td>\n",
       "      <td>90</td>\n",
       "      <td>1985</td>\n",
       "      <td>0</td>\n",
       "      <td>Alta</td>\n",
       "      <td>(2758.5, 3000.0]</td>\n",
       "    </tr>\n",
       "  </tbody>\n",
       "</table>\n",
       "<p>1969 rows × 6 columns</p>\n",
       "</div>"
      ],
      "text/plain": [
       "      aluguel  metragem   ano  aquecimento    loc     aluguel_grupo\n",
       "1072    295.5        70  1957            0   Alta   (99.102, 343.5]\n",
       "1561    202.7        65  1957            0  Baixa   (99.102, 343.5]\n",
       "1562    240.0        68  1957            0  Baixa   (99.102, 343.5]\n",
       "1563    240.0        65  1957            0  Baixa   (99.102, 343.5]\n",
       "1564    265.0        65  1957            0  Baixa   (99.102, 343.5]\n",
       "...       ...       ...   ...          ...    ...               ...\n",
       "1136   2299.0       110  1959            0  Média  (2275.5, 2517.0]\n",
       "795    2537.9        95  1957            0  Média  (2517.0, 2758.5]\n",
       "1283   3000.0       120  1893            0  Média  (2758.5, 3000.0]\n",
       "1465   2764.5       120  1934            0   Alta  (2758.5, 3000.0]\n",
       "25     2869.9        90  1985            0   Alta  (2758.5, 3000.0]\n",
       "\n",
       "[1969 rows x 6 columns]"
      ]
     },
     "execution_count": 182,
     "metadata": {},
     "output_type": "execute_result"
    }
   ],
   "source": [
    "#Ordenando a coluna aluguel_grupo em ordem crescente\n",
    "\n",
    "df.sort_values( by='aluguel_grupo', ascending=True)"
   ]
  },
  {
   "cell_type": "code",
   "execution_count": 178,
   "id": "1ce45629",
   "metadata": {},
   "outputs": [
    {
     "data": {
      "text/plain": [
       "aluguel_grupo\n",
       "(99.102, 343.5]     119\n",
       "(343.5, 585.0]      485\n",
       "(585.0, 826.5]      590\n",
       "(826.5, 1068.0]     330\n",
       "(1068.0, 1309.5]    245\n",
       "(1309.5, 1551.0]    110\n",
       "(1551.0, 1792.5]     60\n",
       "(1792.5, 2034.0]     18\n",
       "(2034.0, 2275.5]      5\n",
       "(2275.5, 2517.0]      3\n",
       "(2517.0, 2758.5]      1\n",
       "(2758.5, 3000.0]      3\n",
       "Name: aluguel_grupo, dtype: int64"
      ]
     },
     "execution_count": 178,
     "metadata": {},
     "output_type": "execute_result"
    }
   ],
   "source": [
    "#Frequência absoluta por classe\n",
    "\n",
    "al_ab=df.groupby(['aluguel_grupo'])['aluguel_grupo'].count()\n",
    "al_ab"
   ]
  },
  {
   "cell_type": "code",
   "execution_count": 187,
   "id": "09d4a7cf",
   "metadata": {},
   "outputs": [
    {
     "data": {
      "text/plain": [
       "aluguel_grupo\n",
       "(99.102, 343.5]      6.04\n",
       "(343.5, 585.0]      24.63\n",
       "(585.0, 826.5]      29.96\n",
       "(826.5, 1068.0]     16.76\n",
       "(1068.0, 1309.5]    12.44\n",
       "(1309.5, 1551.0]     5.59\n",
       "(1551.0, 1792.5]     3.05\n",
       "(1792.5, 2034.0]     0.91\n",
       "(2034.0, 2275.5]     0.25\n",
       "(2275.5, 2517.0]     0.15\n",
       "(2517.0, 2758.5]     0.05\n",
       "(2758.5, 3000.0]     0.15\n",
       "Name: aluguel_grupo, dtype: float64"
      ]
     },
     "execution_count": 187,
     "metadata": {},
     "output_type": "execute_result"
    }
   ],
   "source": [
    "# Frequência relativa por classe\n",
    "\n",
    "al_rel = ((df.groupby(['aluguel_grupo'])['aluguel_grupo'].count())/df.shape[0])\n",
    "round((al_rel*100),2)"
   ]
  },
  {
   "cell_type": "code",
   "execution_count": 198,
   "id": "16e23994",
   "metadata": {},
   "outputs": [
    {
     "data": {
      "text/plain": [
       "<AxesSubplot:title={'center':'Histograma do Valor do Aluguel das Residências'}, ylabel='Frequency'>"
      ]
     },
     "execution_count": 198,
     "metadata": {},
     "output_type": "execute_result"
    },
    {
     "data": {
      "image/png": "[encoded data removed]",
      "text/plain": [
       "<Figure size 504x360 with 1 Axes>"
      ]
     },
     "metadata": {
      "needs_background": "light"
     },
     "output_type": "display_data"
    }
   ],
   "source": [
    "#Plotando um Histograma com a frequência absoluta\n",
    "\n",
    "plt.figure(figsize=(7, 5))\n",
    "df['aluguel'].plot(kind='hist', color='lightblue', edgecolor='black', bins=12, title='Histograma do Valor do Aluguel das Residências')"
   ]
  },
  {
   "cell_type": "markdown",
   "id": "a8cee3c8",
   "metadata": {},
   "source": [
    "As tabelas de frequência e o histograma mostram que a maior concentração das residências apresentam aluguéis na faixa entre 585 e 826 euros com 590 habitações (29.29%). Os aluguéis acima de 1793 euros concentram apenas 1.5 % dos locais analisados."
   ]
  },
  {
   "cell_type": "markdown",
   "id": "54d8acc6",
   "metadata": {},
   "source": [
    "### Cruzamento das variáveis Aluguel x Loc"
   ]
  },
  {
   "cell_type": "code",
   "execution_count": 337,
   "id": "0262f5e8",
   "metadata": {},
   "outputs": [
    {
     "data": {
      "text/plain": [
       "<AxesSubplot:xlabel='loc', ylabel='aluguel'>"
      ]
     },
     "execution_count": 337,
     "metadata": {},
     "output_type": "execute_result"
    },
    {
     "data": {
      "image/png": "[encoded data removed]",
      "text/plain": [
       "<Figure size 432x288 with 1 Axes>"
      ]
     },
     "metadata": {
      "needs_background": "light"
     },
     "output_type": "display_data"
    }
   ],
   "source": [
    "# Gráfico boxplot dos aluguéis para cada localização\n",
    "#Variável explicativa eixo x = loc\n",
    "#Variável resposta eixo y = aluguel\n",
    "\n",
    "list=['Baixa','Média','Alta']\n",
    "sns.boxplot(x='loc', y='aluguel', data=df, palette='Paired', order=list)"
   ]
  },
  {
   "cell_type": "code",
   "execution_count": 227,
   "id": "459d10a8",
   "metadata": {},
   "outputs": [
    {
     "data": {
      "text/html": [
       "<div>\n",
       "<style scoped>\n",
       "    .dataframe tbody tr th:only-of-type {\n",
       "        vertical-align: middle;\n",
       "    }\n",
       "\n",
       "    .dataframe tbody tr th {\n",
       "        vertical-align: top;\n",
       "    }\n",
       "\n",
       "    .dataframe thead th {\n",
       "        text-align: right;\n",
       "    }\n",
       "</style>\n",
       "<table border=\"1\" class=\"dataframe\">\n",
       "  <thead>\n",
       "    <tr style=\"text-align: right;\">\n",
       "      <th></th>\n",
       "      <th>count</th>\n",
       "      <th>mean</th>\n",
       "      <th>std</th>\n",
       "      <th>min</th>\n",
       "      <th>25%</th>\n",
       "      <th>50%</th>\n",
       "      <th>75%</th>\n",
       "      <th>max</th>\n",
       "    </tr>\n",
       "    <tr>\n",
       "      <th>loc</th>\n",
       "      <th></th>\n",
       "      <th></th>\n",
       "      <th></th>\n",
       "      <th></th>\n",
       "      <th></th>\n",
       "      <th></th>\n",
       "      <th></th>\n",
       "      <th></th>\n",
       "    </tr>\n",
       "  </thead>\n",
       "  <tbody>\n",
       "    <tr>\n",
       "      <th>Alta</th>\n",
       "      <td>550.0</td>\n",
       "      <td>906.7</td>\n",
       "      <td>408.8</td>\n",
       "      <td>190.3</td>\n",
       "      <td>596.0</td>\n",
       "      <td>823.0</td>\n",
       "      <td>1188.9</td>\n",
       "      <td>2869.9</td>\n",
       "    </tr>\n",
       "    <tr>\n",
       "      <th>Baixa</th>\n",
       "      <td>172.0</td>\n",
       "      <td>652.0</td>\n",
       "      <td>318.9</td>\n",
       "      <td>125.5</td>\n",
       "      <td>443.2</td>\n",
       "      <td>611.3</td>\n",
       "      <td>809.7</td>\n",
       "      <td>1887.0</td>\n",
       "    </tr>\n",
       "    <tr>\n",
       "      <th>Média</th>\n",
       "      <td>1247.0</td>\n",
       "      <td>792.1</td>\n",
       "      <td>362.5</td>\n",
       "      <td>102.0</td>\n",
       "      <td>539.3</td>\n",
       "      <td>722.6</td>\n",
       "      <td>983.9</td>\n",
       "      <td>3000.0</td>\n",
       "    </tr>\n",
       "  </tbody>\n",
       "</table>\n",
       "</div>"
      ],
      "text/plain": [
       "        count   mean    std    min    25%    50%     75%     max\n",
       "loc                                                             \n",
       "Alta    550.0  906.7  408.8  190.3  596.0  823.0  1188.9  2869.9\n",
       "Baixa   172.0  652.0  318.9  125.5  443.2  611.3   809.7  1887.0\n",
       "Média  1247.0  792.1  362.5  102.0  539.3  722.6   983.9  3000.0"
      ]
     },
     "execution_count": 227,
     "metadata": {},
     "output_type": "execute_result"
    }
   ],
   "source": [
    "# Mostrando algumas medidas descritivas \n",
    "\n",
    "df.groupby(['loc'])['aluguel'].describe().round(1)"
   ]
  },
  {
   "cell_type": "code",
   "execution_count": 228,
   "id": "1b63a1f3",
   "metadata": {},
   "outputs": [
    {
     "data": {
      "text/plain": [
       "loc\n",
       "Alta     2679.6\n",
       "Baixa    1761.5\n",
       "Média    2898.0\n",
       "Name: aluguel, dtype: float64"
      ]
     },
     "execution_count": 228,
     "metadata": {},
     "output_type": "execute_result"
    }
   ],
   "source": [
    "# Diferença entre o valor máximo e o valor mínimo de cada localização\n",
    "\n",
    "df.groupby(['loc'])['aluguel'].max()-df.groupby(['loc'])['aluguel'].min()"
   ]
  },
  {
   "cell_type": "code",
   "execution_count": 247,
   "id": "1c628fcf",
   "metadata": {},
   "outputs": [
    {
     "data": {
      "text/plain": [
       "loc\n",
       "Alta     167077.5\n",
       "Baixa    101684.1\n",
       "Média    131419.1\n",
       "Name: aluguel, dtype: float64"
      ]
     },
     "execution_count": 247,
     "metadata": {},
     "output_type": "execute_result"
    }
   ],
   "source": [
    "# Cálculo da variância\n",
    "\n",
    "df.groupby(['loc'])['aluguel'].var().round(1)"
   ]
  },
  {
   "cell_type": "markdown",
   "id": "9d966e4d",
   "metadata": {},
   "source": [
    "Observa-se que os bairros com renda mais baixa apresentam menor variabilidade dos valores do aluguéis e apresentam um aluguel médio de 652 euros. Os bairros de renda alta apresentam a maior variabilidade e um aluguel médio de 906 euros."
   ]
  },
  {
   "cell_type": "markdown",
   "id": "7b979077",
   "metadata": {},
   "source": [
    "### Cruzamento das variáveis Aluguel x Loc x Aquecimento "
   ]
  },
  {
   "cell_type": "code",
   "execution_count": 252,
   "id": "a728015d",
   "metadata": {},
   "outputs": [
    {
     "data": {
      "text/html": [
       "<div>\n",
       "<style scoped>\n",
       "    .dataframe tbody tr th:only-of-type {\n",
       "        vertical-align: middle;\n",
       "    }\n",
       "\n",
       "    .dataframe tbody tr th {\n",
       "        vertical-align: top;\n",
       "    }\n",
       "\n",
       "    .dataframe thead th {\n",
       "        text-align: right;\n",
       "    }\n",
       "</style>\n",
       "<table border=\"1\" class=\"dataframe\">\n",
       "  <thead>\n",
       "    <tr style=\"text-align: right;\">\n",
       "      <th>aquecimento</th>\n",
       "      <th>0</th>\n",
       "      <th>1</th>\n",
       "    </tr>\n",
       "    <tr>\n",
       "      <th>loc</th>\n",
       "      <th></th>\n",
       "      <th></th>\n",
       "    </tr>\n",
       "  </thead>\n",
       "  <tbody>\n",
       "    <tr>\n",
       "      <th>Alta</th>\n",
       "      <td>940.01</td>\n",
       "      <td>666.42</td>\n",
       "    </tr>\n",
       "    <tr>\n",
       "      <th>Baixa</th>\n",
       "      <td>716.70</td>\n",
       "      <td>494.05</td>\n",
       "    </tr>\n",
       "    <tr>\n",
       "      <th>Média</th>\n",
       "      <td>848.89</td>\n",
       "      <td>588.64</td>\n",
       "    </tr>\n",
       "  </tbody>\n",
       "</table>\n",
       "</div>"
      ],
      "text/plain": [
       "aquecimento       0       1\n",
       "loc                        \n",
       "Alta         940.01  666.42\n",
       "Baixa        716.70  494.05\n",
       "Média        848.89  588.64"
      ]
     },
     "execution_count": 252,
     "metadata": {},
     "output_type": "execute_result"
    }
   ],
   "source": [
    "# Agrupando por Loc e Aquecimento em relação a média dos aluguéis\n",
    "\n",
    "loc_aq_al=df.groupby(['loc','aquecimento'])['aluguel'].mean().round(2).unstack()\n",
    "loc_aq_al"
   ]
  },
  {
   "cell_type": "code",
   "execution_count": 338,
   "id": "3bc54581",
   "metadata": {},
   "outputs": [
    {
     "data": {
      "text/plain": [
       "<AxesSubplot:title={'center':'Classificação localização x Aquecimento x Média do Aluguel'}, xlabel='loc'>"
      ]
     },
     "execution_count": 338,
     "metadata": {},
     "output_type": "execute_result"
    },
    {
     "data": {
      "image/png": "[encoded data removed]",
      "text/plain": [
       "<Figure size 432x288 with 1 Axes>"
      ]
     },
     "metadata": {
      "needs_background": "light"
     },
     "output_type": "display_data"
    }
   ],
   "source": [
    "# Plotando o gráfico de barras \n",
    "\n",
    "colors=['lightblue','palegreen']\n",
    "(loc_aq_al).loc[['Baixa','Média','Alta']].plot(kind='bar', color=colors, edgecolor='black', title='Classificação localização x Aquecimento x Média do Aluguel')"
   ]
  },
  {
   "cell_type": "markdown",
   "id": "83e157f0",
   "metadata": {},
   "source": [
    "Em todos os bairros as casas que possuem aquecimento superam as residências que não possuem."
   ]
  },
  {
   "cell_type": "markdown",
   "id": "0ab881b5",
   "metadata": {},
   "source": [
    "### Variável: Metragem\n",
    "\n",
    "* Tamanho em metros quadrados"
   ]
  },
  {
   "cell_type": "code",
   "execution_count": 254,
   "id": "569e06ab",
   "metadata": {},
   "outputs": [
    {
     "data": {
      "text/plain": [
       "metragem\n",
       "30     29\n",
       "31      7\n",
       "32     19\n",
       "33     13\n",
       "34     17\n",
       "       ..\n",
       "116     1\n",
       "117     2\n",
       "118     7\n",
       "119     2\n",
       "120    15\n",
       "Name: metragem, Length: 91, dtype: int64"
      ]
     },
     "execution_count": 254,
     "metadata": {},
     "output_type": "execute_result"
    }
   ],
   "source": [
    "# Frequência absoluta\n",
    "\n",
    "met_ab = df.groupby('metragem')['metragem'].count()\n",
    "met_ab"
   ]
  },
  {
   "cell_type": "code",
   "execution_count": 255,
   "id": "7591765e",
   "metadata": {},
   "outputs": [
    {
     "data": {
      "text/plain": [
       "count    1969.000000\n",
       "mean       67.732351\n",
       "std        20.855557\n",
       "min        30.000000\n",
       "25%        52.000000\n",
       "50%        67.000000\n",
       "75%        82.000000\n",
       "max       120.000000\n",
       "Name: metragem, dtype: float64"
      ]
     },
     "execution_count": 255,
     "metadata": {},
     "output_type": "execute_result"
    }
   ],
   "source": [
    "# Algumas medidas descritivas da variável metragem\n",
    "\n",
    "df['metragem'].describe()\n"
   ]
  },
  {
   "cell_type": "markdown",
   "id": "bcb68bba",
   "metadata": {},
   "source": [
    "Observa-se que em média das casas possuem 67.7 metros quadrados. A maior casa analisada tem 120 m² e a menor 30 m²."
   ]
  },
  {
   "cell_type": "code",
   "execution_count": 260,
   "id": "14cb1665",
   "metadata": {},
   "outputs": [
    {
     "data": {
      "text/plain": [
       "0        (45.0, 60.0]\n",
       "1        (45.0, 60.0]\n",
       "2        (60.0, 75.0]\n",
       "3        (45.0, 60.0]\n",
       "4        (45.0, 60.0]\n",
       "            ...      \n",
       "1964     (45.0, 60.0]\n",
       "1965     (45.0, 60.0]\n",
       "1966    (29.91, 45.0]\n",
       "1967     (45.0, 60.0]\n",
       "1968     (45.0, 60.0]\n",
       "Name: metragem_grupo, Length: 1969, dtype: category\n",
       "Categories (6, interval[float64]): [(29.91, 45.0] < (45.0, 60.0] < (60.0, 75.0] < (75.0, 90.0] < (90.0, 105.0] < (105.0, 120.0]]"
      ]
     },
     "execution_count": 260,
     "metadata": {},
     "output_type": "execute_result"
    }
   ],
   "source": [
    "#Gerando um intervalo de classes da variável metragem com 6 divisões\n",
    "\n",
    "df['metragem_grupo'] = pd.cut(df['metragem'], bins=6)\n",
    "df['metragem_grupo']"
   ]
  },
  {
   "cell_type": "code",
   "execution_count": 261,
   "id": "174b8461",
   "metadata": {
    "scrolled": true
   },
   "outputs": [
    {
     "data": {
      "text/plain": [
       "metragem_grupo\n",
       "(29.91, 45.0]     333\n",
       "(45.0, 60.0]      449\n",
       "(60.0, 75.0]      498\n",
       "(75.0, 90.0]      407\n",
       "(90.0, 105.0]     189\n",
       "(105.0, 120.0]     93\n",
       "Name: metragem_grupo, dtype: int64"
      ]
     },
     "execution_count": 261,
     "metadata": {},
     "output_type": "execute_result"
    }
   ],
   "source": [
    "#Frequência absoluta por classe\n",
    "\n",
    "met_ab=df.groupby(['metragem_grupo'])['metragem_grupo'].count()\n",
    "met_ab"
   ]
  },
  {
   "cell_type": "code",
   "execution_count": 262,
   "id": "e9725256",
   "metadata": {
    "scrolled": true
   },
   "outputs": [
    {
     "data": {
      "text/plain": [
       "metragem_grupo\n",
       "(29.91, 45.0]     16.91\n",
       "(45.0, 60.0]      22.80\n",
       "(60.0, 75.0]      25.29\n",
       "(75.0, 90.0]      20.67\n",
       "(90.0, 105.0]      9.60\n",
       "(105.0, 120.0]     4.72\n",
       "Name: metragem_grupo, dtype: float64"
      ]
     },
     "execution_count": 262,
     "metadata": {},
     "output_type": "execute_result"
    }
   ],
   "source": [
    "# Frequência relativa por classe\n",
    "\n",
    "met_rel = ((df.groupby(['metragem_grupo'])['metragem_grupo'].count())/df.shape[0])\n",
    "round((met_rel*100),2)"
   ]
  },
  {
   "cell_type": "code",
   "execution_count": 265,
   "id": "30d26ba7",
   "metadata": {},
   "outputs": [
    {
     "data": {
      "text/plain": [
       "<AxesSubplot:title={'center':'Histograma da Metragem das Residências'}, ylabel='Frequency'>"
      ]
     },
     "execution_count": 265,
     "metadata": {},
     "output_type": "execute_result"
    },
    {
     "data": {
      "image/png": "[encoded data removed]",
      "text/plain": [
       "<Figure size 432x288 with 1 Axes>"
      ]
     },
     "metadata": {
      "needs_background": "light"
     },
     "output_type": "display_data"
    }
   ],
   "source": [
    "#Plotando um Histograma com a frequência absoluta\n",
    "\n",
    "A classe entre 60 e 75 m² é a que apresenta maiores observações, com um total de 498 residências (25.29%). Habitações entre 105 e 120 m² apresentam 93 observações (4.72%).df['metragem'].plot(kind='hist', color='lightblue', edgecolor='black', bins=6, title='Histograma da Metragem das Residências')"
   ]
  },
  {
   "cell_type": "markdown",
   "id": "8731abe7",
   "metadata": {},
   "source": [
    "A classe entre 60 e 75 m² é a que apresenta maiores observações, com um total de 498 residências (25.29%). Habitações entre 105 e 120 m² apresentam 93 observações (4.72%)."
   ]
  },
  {
   "cell_type": "markdown",
   "id": "e1022c80",
   "metadata": {},
   "source": [
    "### Cruzamento das variáveis Aluguel x Metragem"
   ]
  },
  {
   "cell_type": "code",
   "execution_count": 276,
   "id": "0e0e3370",
   "metadata": {},
   "outputs": [
    {
     "data": {
      "text/plain": [
       "Text(0.5, 1.0, 'Aluguel x Metragem')"
      ]
     },
     "execution_count": 276,
     "metadata": {},
     "output_type": "execute_result"
    },
    {
     "data": {
      "image/png": "[encoded data removed]",
      "text/plain": [
       "<Figure size 1080x504 with 1 Axes>"
      ]
     },
     "metadata": {
      "needs_background": "light"
     },
     "output_type": "display_data"
    }
   ],
   "source": [
    "# Gráfico de dispersão (scatterplot)\n",
    "\n",
    "plt.figure(figsize=(15, 7))\n",
    "plt.scatter(df['metragem'], df['aluguel'], label='o',alpha=0.5)\n",
    "plt.xlabel('Metragem')\n",
    "plt.ylabel('Aluguel')\n",
    "plt.title('Aluguel x Metragem')"
   ]
  },
  {
   "cell_type": "code",
   "execution_count": 277,
   "id": "90e352cc",
   "metadata": {},
   "outputs": [
    {
     "data": {
      "text/plain": [
       "metragem_grupo\n",
       "(29.91, 45.0]      568.69\n",
       "(45.0, 60.0]       691.86\n",
       "(60.0, 75.0]       805.07\n",
       "(75.0, 90.0]       939.91\n",
       "(90.0, 105.0]     1089.22\n",
       "(105.0, 120.0]    1174.72\n",
       "Name: aluguel, dtype: float64"
      ]
     },
     "execution_count": 277,
     "metadata": {},
     "output_type": "execute_result"
    }
   ],
   "source": [
    "# Agrupando a metragem em relação a média dos aluguéis\n",
    "\n",
    "met_al=df.groupby('metragem_grupo')['aluguel'].mean().round(2)\n",
    "met_al"
   ]
  },
  {
   "cell_type": "code",
   "execution_count": 279,
   "id": "3b622a4c",
   "metadata": {},
   "outputs": [
    {
     "data": {
      "text/plain": [
       "metragem_grupo\n",
       "(29.91, 45.0]     0.342558\n",
       "(45.0, 60.0]      0.417309\n",
       "(60.0, 75.0]      0.392322\n",
       "(75.0, 90.0]      0.416664\n",
       "(90.0, 105.0]     0.391711\n",
       "(105.0, 120.0]    0.461471\n",
       "Name: aluguel, dtype: float64"
      ]
     },
     "execution_count": 279,
     "metadata": {},
     "output_type": "execute_result"
    }
   ],
   "source": [
    "# Coeficiente de variação do aluguel para cada classe de metragem\n",
    "\n",
    "cv = (df.groupby(['metragem_grupo'])['aluguel'].std())/(df.groupby(['metragem_grupo'])['aluguel'].mean())\n",
    "cv"
   ]
  },
  {
   "cell_type": "markdown",
   "id": "23831ef6",
   "metadata": {},
   "source": [
    "Pelo gráfico de dispersão observa-se que a medida que a variável metragem aumenta, a variável aluguel tenda a aumentar também.\n",
    "Porém, como há uma dispersão dos dados outras variáveis podem estar relacionada como a Localização (loc), o ano de construção (Ano) e se a residência possui aquecimento."
   ]
  },
  {
   "cell_type": "markdown",
   "id": "0aec17b8",
   "metadata": {},
   "source": [
    "### Cruzamento das variáveis Aluguel x Metragem x Loc"
   ]
  },
  {
   "cell_type": "code",
   "execution_count": 289,
   "id": "fca91e33",
   "metadata": {},
   "outputs": [
    {
     "data": {
      "text/html": [
       "<div>\n",
       "<style scoped>\n",
       "    .dataframe tbody tr th:only-of-type {\n",
       "        vertical-align: middle;\n",
       "    }\n",
       "\n",
       "    .dataframe tbody tr th {\n",
       "        vertical-align: top;\n",
       "    }\n",
       "\n",
       "    .dataframe thead th {\n",
       "        text-align: right;\n",
       "    }\n",
       "</style>\n",
       "<table border=\"1\" class=\"dataframe\">\n",
       "  <thead>\n",
       "    <tr style=\"text-align: right;\">\n",
       "      <th>loc</th>\n",
       "      <th>Alta</th>\n",
       "      <th>Baixa</th>\n",
       "      <th>Média</th>\n",
       "    </tr>\n",
       "    <tr>\n",
       "      <th>metragem_grupo</th>\n",
       "      <th></th>\n",
       "      <th></th>\n",
       "      <th></th>\n",
       "    </tr>\n",
       "  </thead>\n",
       "  <tbody>\n",
       "    <tr>\n",
       "      <th>(29.91, 45.0]</th>\n",
       "      <td>590.0</td>\n",
       "      <td>486.0</td>\n",
       "      <td>570.0</td>\n",
       "    </tr>\n",
       "    <tr>\n",
       "      <th>(45.0, 60.0]</th>\n",
       "      <td>723.0</td>\n",
       "      <td>543.0</td>\n",
       "      <td>701.0</td>\n",
       "    </tr>\n",
       "    <tr>\n",
       "      <th>(60.0, 75.0]</th>\n",
       "      <td>893.0</td>\n",
       "      <td>600.0</td>\n",
       "      <td>790.0</td>\n",
       "    </tr>\n",
       "    <tr>\n",
       "      <th>(75.0, 90.0]</th>\n",
       "      <td>1078.0</td>\n",
       "      <td>738.0</td>\n",
       "      <td>903.0</td>\n",
       "    </tr>\n",
       "    <tr>\n",
       "      <th>(90.0, 105.0]</th>\n",
       "      <td>1201.0</td>\n",
       "      <td>863.0</td>\n",
       "      <td>1071.0</td>\n",
       "    </tr>\n",
       "    <tr>\n",
       "      <th>(105.0, 120.0]</th>\n",
       "      <td>1438.0</td>\n",
       "      <td>924.0</td>\n",
       "      <td>1102.0</td>\n",
       "    </tr>\n",
       "  </tbody>\n",
       "</table>\n",
       "</div>"
      ],
      "text/plain": [
       "loc               Alta  Baixa   Média\n",
       "metragem_grupo                       \n",
       "(29.91, 45.0]    590.0  486.0   570.0\n",
       "(45.0, 60.0]     723.0  543.0   701.0\n",
       "(60.0, 75.0]     893.0  600.0   790.0\n",
       "(75.0, 90.0]    1078.0  738.0   903.0\n",
       "(90.0, 105.0]   1201.0  863.0  1071.0\n",
       "(105.0, 120.0]  1438.0  924.0  1102.0"
      ]
     },
     "execution_count": 289,
     "metadata": {},
     "output_type": "execute_result"
    }
   ],
   "source": [
    "# Agrupando por Loc e Metragem em relação a média dos aluguéis\n",
    "\n",
    "loc_met_al=df.groupby(['loc','metragem_grupo'])['aluguel'].mean().round().unstack().transpose()\n",
    "loc_met_al"
   ]
  },
  {
   "cell_type": "code",
   "execution_count": 341,
   "id": "d3e3a972",
   "metadata": {},
   "outputs": [
    {
     "data": {
      "image/png": "[encoded data removed]",
      "text/plain": [
       "<Figure size 1080x504 with 1 Axes>"
      ]
     },
     "metadata": {
      "needs_background": "light"
     },
     "output_type": "display_data"
    }
   ],
   "source": [
    "import numpy as np\n",
    " \n",
    "plt.figure(figsize=(15, 7))\n",
    "\n",
    "#Criando os dados\n",
    "x = ['(29.91, 45.0]', '(45.0, 60.0]', '(60.0, 75.0]', '(75.0, 90.0]', '(90.0, 105.0]', '(105.0, 120.0]']\n",
    "y1 = np.array([486, 543, 600, 738, 863, 924])\n",
    "y2 = np.array([570,701,790,903,1071,1102])\n",
    "y3 = np.array([590,723,893,1078,1201,1438])\n",
    "  \n",
    "#Plotando as barras agrupadas\n",
    "plt.bar(x, y1, edgecolor='black', color='lightblue')\n",
    "plt.bar(x, y2, edgecolor='black', bottom=y1, color='palegreen')\n",
    "plt.bar(x, y3, edgecolor='black',bottom=y1+y2, color='salmon')\n",
    "\n",
    "#Plotando os rótulos de valores para cada barra empilhada\n",
    "for xpos, ypos, yval in zip(x, y1/2, y1):\n",
    "    plt.text(xpos, ypos, yval, ha=\"center\", va=\"center\")\n",
    "for xpos, ypos, yval in zip(x, y1+y2/2, y2):\n",
    "    plt.text(xpos, ypos, yval, ha=\"center\", va=\"center\")\n",
    "for xpos, ypos, yval in zip(x, y1+y2+y3/2, y3):\n",
    "    plt.text(xpos, ypos, yval, ha=\"center\", va=\"center\")\n",
    "    \n",
    "#Customização do gráfico\n",
    "plt.xlabel(\"Metragem\")\n",
    "plt.ylabel(\"Média dos Aluguéis\")\n",
    "plt.legend([\"Baixa\", \"Média\", \"Alta\"])\n",
    "plt.title(\"Classificação da localização e Metragem por Média dos Aluguéis\")\n",
    "plt.show()\n"
   ]
  },
  {
   "cell_type": "markdown",
   "id": "60f970b7",
   "metadata": {},
   "source": [
    "O gráfico mostra a média dos aluguéis quando comparado com a metragem das residência e a classificação dos bairros pela renda. \n",
    "\n",
    "Nos bairros de renda alta uma residência entre 29 e 45 m² custa 590 euros, já uma casa entre 105 e 120 m² custa 1438 euros.\n",
    "\n",
    "Nos bairros de renda média uma residência entre 29 e 45 m² custa em média 570 euros, em habitações com metragem entre 105 e 120 o aluguel é em média 1102 euros.\n",
    "\n",
    "Em bairros classificados como renda baixa as casas com metragem entre 29 e 45 m² têm um aluguel médio de 486 euros, as residências entre 105 e 120 m² têm um aluguel médio de 924 euros."
   ]
  },
  {
   "cell_type": "markdown",
   "id": "b9d8616e",
   "metadata": {},
   "source": [
    "### Cruzamento das variáveis Aluguel x Metragem x Aquecimento"
   ]
  },
  {
   "cell_type": "code",
   "execution_count": 317,
   "id": "9e74bf4d",
   "metadata": {},
   "outputs": [
    {
     "data": {
      "text/html": [
       "<div>\n",
       "<style scoped>\n",
       "    .dataframe tbody tr th:only-of-type {\n",
       "        vertical-align: middle;\n",
       "    }\n",
       "\n",
       "    .dataframe tbody tr th {\n",
       "        vertical-align: top;\n",
       "    }\n",
       "\n",
       "    .dataframe thead th {\n",
       "        text-align: right;\n",
       "    }\n",
       "</style>\n",
       "<table border=\"1\" class=\"dataframe\">\n",
       "  <thead>\n",
       "    <tr style=\"text-align: right;\">\n",
       "      <th>aquecimento</th>\n",
       "      <th>0</th>\n",
       "      <th>1</th>\n",
       "    </tr>\n",
       "    <tr>\n",
       "      <th>metragem_grupo</th>\n",
       "      <th></th>\n",
       "      <th></th>\n",
       "    </tr>\n",
       "  </thead>\n",
       "  <tbody>\n",
       "    <tr>\n",
       "      <th>(29.91, 45.0]</th>\n",
       "      <td>602.0</td>\n",
       "      <td>412.0</td>\n",
       "    </tr>\n",
       "    <tr>\n",
       "      <th>(45.0, 60.0]</th>\n",
       "      <td>755.0</td>\n",
       "      <td>527.0</td>\n",
       "    </tr>\n",
       "    <tr>\n",
       "      <th>(60.0, 75.0]</th>\n",
       "      <td>847.0</td>\n",
       "      <td>618.0</td>\n",
       "    </tr>\n",
       "    <tr>\n",
       "      <th>(75.0, 90.0]</th>\n",
       "      <td>984.0</td>\n",
       "      <td>693.0</td>\n",
       "    </tr>\n",
       "    <tr>\n",
       "      <th>(90.0, 105.0]</th>\n",
       "      <td>1146.0</td>\n",
       "      <td>789.0</td>\n",
       "    </tr>\n",
       "    <tr>\n",
       "      <th>(105.0, 120.0]</th>\n",
       "      <td>1332.0</td>\n",
       "      <td>724.0</td>\n",
       "    </tr>\n",
       "  </tbody>\n",
       "</table>\n",
       "</div>"
      ],
      "text/plain": [
       "aquecimento          0      1\n",
       "metragem_grupo               \n",
       "(29.91, 45.0]    602.0  412.0\n",
       "(45.0, 60.0]     755.0  527.0\n",
       "(60.0, 75.0]     847.0  618.0\n",
       "(75.0, 90.0]     984.0  693.0\n",
       "(90.0, 105.0]   1146.0  789.0\n",
       "(105.0, 120.0]  1332.0  724.0"
      ]
     },
     "execution_count": 317,
     "metadata": {},
     "output_type": "execute_result"
    }
   ],
   "source": [
    "# Agrupando por Loc e Metragem em relação a média dos aluguéis\n",
    "\n",
    "loc_met_aq=df.groupby(['aquecimento','metragem_grupo'])['aluguel'].mean().round().unstack().transpose()\n",
    "loc_met_aq"
   ]
  },
  {
   "cell_type": "code",
   "execution_count": 342,
   "id": "72866035",
   "metadata": {},
   "outputs": [
    {
     "data": {
      "text/plain": [
       "Text(0, 0.5, 'Média dos Aluguéis')"
      ]
     },
     "execution_count": 342,
     "metadata": {},
     "output_type": "execute_result"
    },
    {
     "data": {
      "image/png": "[encoded data removed]",
      "text/plain": [
       "<Figure size 432x288 with 1 Axes>"
      ]
     },
     "metadata": {
      "needs_background": "light"
     },
     "output_type": "display_data"
    }
   ],
   "source": [
    "# Gráfico de linha do agrupamento\n",
    "\n",
    "colors=['lightblue','palegreen']\n",
    "(loc_met_aq).plot(kind='bar', color=colors, edgecolor='black', title='Metragem x Aquecimento x Média dos Aluguéis')\n",
    "plt.xlabel('Metragem')\n",
    "plt.ylabel('Média dos Aluguéis')\n"
   ]
  },
  {
   "cell_type": "code",
   "execution_count": 330,
   "id": "ad6a1876",
   "metadata": {},
   "outputs": [
    {
     "data": {
      "text/plain": [
       "metragem_grupo\n",
       "(29.91, 45.0]     1.46\n",
       "(45.0, 60.0]      1.43\n",
       "(60.0, 75.0]      1.37\n",
       "(75.0, 90.0]      1.42\n",
       "(90.0, 105.0]     1.45\n",
       "(105.0, 120.0]    1.84\n",
       "dtype: float64"
      ]
     },
     "execution_count": 330,
     "metadata": {},
     "output_type": "execute_result"
    }
   ],
   "source": [
    "# Divisão do aluguél médio de uma residência com aquecimento e sem aquecimento em relação a sua metragem\n",
    "\n",
    "round((loc_met_aq[0])/(loc_met_aq[1]),2)"
   ]
  },
  {
   "cell_type": "markdown",
   "id": "6c0e357f",
   "metadata": {},
   "source": [
    "Observa-se que uma residência com metragem entre 29 e 45 m² e que possui aquecimento tem um aluguel mensal 46% maior do que uma residência sem aquecimento e de mesma metragem.\n",
    "\n",
    "Nas residências com metragem entre 105 e 120 m², as casas com aquecimento têm um aluguel 84% maior do que as habitações sem aquecimento. \n",
    "\n"
   ]
  }
 ],
 "metadata": {
  "kernelspec": {
   "display_name": "Python 3",
   "language": "python",
   "name": "python3"
  },
  "language_info": {
   "codemirror_mode": {
    "name": "ipython",
    "version": 3
   },
   "file_extension": ".py",
   "mimetype": "text/x-python",
   "name": "python",
   "nbconvert_exporter": "python",
   "pygments_lexer": "ipython3",
   "version": "3.8.8"
  }
 },
 "nbformat": 4,
 "nbformat_minor": 5
}
